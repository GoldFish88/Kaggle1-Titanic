{
 "cells": [
  {
   "cell_type": "code",
   "execution_count": 2,
   "metadata": {},
   "outputs": [],
   "source": [
    "import pandas as pd\n",
    "import matplotlib.pyplot as plt\n",
    "import numpy as np\n",
    "import seaborn as sns"
   ]
  },
  {
   "cell_type": "code",
   "execution_count": 3,
   "metadata": {},
   "outputs": [],
   "source": [
    "titanic = pd.read_csv(\"train.csv\")"
   ]
  },
  {
   "cell_type": "code",
   "execution_count": 4,
   "metadata": {},
   "outputs": [
    {
     "data": {
      "text/html": [
       "<div>\n",
       "<style scoped>\n",
       "    .dataframe tbody tr th:only-of-type {\n",
       "        vertical-align: middle;\n",
       "    }\n",
       "\n",
       "    .dataframe tbody tr th {\n",
       "        vertical-align: top;\n",
       "    }\n",
       "\n",
       "    .dataframe thead th {\n",
       "        text-align: right;\n",
       "    }\n",
       "</style>\n",
       "<table border=\"1\" class=\"dataframe\">\n",
       "  <thead>\n",
       "    <tr style=\"text-align: right;\">\n",
       "      <th></th>\n",
       "      <th>PassengerId</th>\n",
       "      <th>Survived</th>\n",
       "      <th>Pclass</th>\n",
       "      <th>Name</th>\n",
       "      <th>Sex</th>\n",
       "      <th>Age</th>\n",
       "      <th>SibSp</th>\n",
       "      <th>Parch</th>\n",
       "      <th>Ticket</th>\n",
       "      <th>Fare</th>\n",
       "      <th>Cabin</th>\n",
       "      <th>Embarked</th>\n",
       "    </tr>\n",
       "  </thead>\n",
       "  <tbody>\n",
       "    <tr>\n",
       "      <th>0</th>\n",
       "      <td>1</td>\n",
       "      <td>0</td>\n",
       "      <td>3</td>\n",
       "      <td>Braund, Mr. Owen Harris</td>\n",
       "      <td>male</td>\n",
       "      <td>22.0</td>\n",
       "      <td>1</td>\n",
       "      <td>0</td>\n",
       "      <td>A/5 21171</td>\n",
       "      <td>7.2500</td>\n",
       "      <td>NaN</td>\n",
       "      <td>S</td>\n",
       "    </tr>\n",
       "    <tr>\n",
       "      <th>1</th>\n",
       "      <td>2</td>\n",
       "      <td>1</td>\n",
       "      <td>1</td>\n",
       "      <td>Cumings, Mrs. John Bradley (Florence Briggs Th...</td>\n",
       "      <td>female</td>\n",
       "      <td>38.0</td>\n",
       "      <td>1</td>\n",
       "      <td>0</td>\n",
       "      <td>PC 17599</td>\n",
       "      <td>71.2833</td>\n",
       "      <td>C85</td>\n",
       "      <td>C</td>\n",
       "    </tr>\n",
       "    <tr>\n",
       "      <th>2</th>\n",
       "      <td>3</td>\n",
       "      <td>1</td>\n",
       "      <td>3</td>\n",
       "      <td>Heikkinen, Miss. Laina</td>\n",
       "      <td>female</td>\n",
       "      <td>26.0</td>\n",
       "      <td>0</td>\n",
       "      <td>0</td>\n",
       "      <td>STON/O2. 3101282</td>\n",
       "      <td>7.9250</td>\n",
       "      <td>NaN</td>\n",
       "      <td>S</td>\n",
       "    </tr>\n",
       "    <tr>\n",
       "      <th>3</th>\n",
       "      <td>4</td>\n",
       "      <td>1</td>\n",
       "      <td>1</td>\n",
       "      <td>Futrelle, Mrs. Jacques Heath (Lily May Peel)</td>\n",
       "      <td>female</td>\n",
       "      <td>35.0</td>\n",
       "      <td>1</td>\n",
       "      <td>0</td>\n",
       "      <td>113803</td>\n",
       "      <td>53.1000</td>\n",
       "      <td>C123</td>\n",
       "      <td>S</td>\n",
       "    </tr>\n",
       "    <tr>\n",
       "      <th>4</th>\n",
       "      <td>5</td>\n",
       "      <td>0</td>\n",
       "      <td>3</td>\n",
       "      <td>Allen, Mr. William Henry</td>\n",
       "      <td>male</td>\n",
       "      <td>35.0</td>\n",
       "      <td>0</td>\n",
       "      <td>0</td>\n",
       "      <td>373450</td>\n",
       "      <td>8.0500</td>\n",
       "      <td>NaN</td>\n",
       "      <td>S</td>\n",
       "    </tr>\n",
       "  </tbody>\n",
       "</table>\n",
       "</div>"
      ],
      "text/plain": [
       "   PassengerId  Survived  Pclass  \\\n",
       "0            1         0       3   \n",
       "1            2         1       1   \n",
       "2            3         1       3   \n",
       "3            4         1       1   \n",
       "4            5         0       3   \n",
       "\n",
       "                                                Name     Sex   Age  SibSp  \\\n",
       "0                            Braund, Mr. Owen Harris    male  22.0      1   \n",
       "1  Cumings, Mrs. John Bradley (Florence Briggs Th...  female  38.0      1   \n",
       "2                             Heikkinen, Miss. Laina  female  26.0      0   \n",
       "3       Futrelle, Mrs. Jacques Heath (Lily May Peel)  female  35.0      1   \n",
       "4                           Allen, Mr. William Henry    male  35.0      0   \n",
       "\n",
       "   Parch            Ticket     Fare Cabin Embarked  \n",
       "0      0         A/5 21171   7.2500   NaN        S  \n",
       "1      0          PC 17599  71.2833   C85        C  \n",
       "2      0  STON/O2. 3101282   7.9250   NaN        S  \n",
       "3      0            113803  53.1000  C123        S  \n",
       "4      0            373450   8.0500   NaN        S  "
      ]
     },
     "execution_count": 4,
     "metadata": {},
     "output_type": "execute_result"
    }
   ],
   "source": [
    "titanic.head()"
   ]
  },
  {
   "cell_type": "code",
   "execution_count": 5,
   "metadata": {},
   "outputs": [
    {
     "data": {
      "text/plain": [
       "(891, 12)"
      ]
     },
     "execution_count": 5,
     "metadata": {},
     "output_type": "execute_result"
    }
   ],
   "source": [
    "titanic.shape"
   ]
  },
  {
   "cell_type": "code",
   "execution_count": 6,
   "metadata": {},
   "outputs": [
    {
     "name": "stdout",
     "output_type": "stream",
     "text": [
      "<class 'pandas.core.frame.DataFrame'>\n",
      "RangeIndex: 891 entries, 0 to 890\n",
      "Data columns (total 12 columns):\n",
      " #   Column       Non-Null Count  Dtype  \n",
      "---  ------       --------------  -----  \n",
      " 0   PassengerId  891 non-null    int64  \n",
      " 1   Survived     891 non-null    int64  \n",
      " 2   Pclass       891 non-null    int64  \n",
      " 3   Name         891 non-null    object \n",
      " 4   Sex          891 non-null    object \n",
      " 5   Age          714 non-null    float64\n",
      " 6   SibSp        891 non-null    int64  \n",
      " 7   Parch        891 non-null    int64  \n",
      " 8   Ticket       891 non-null    object \n",
      " 9   Fare         891 non-null    float64\n",
      " 10  Cabin        204 non-null    object \n",
      " 11  Embarked     889 non-null    object \n",
      "dtypes: float64(2), int64(5), object(5)\n",
      "memory usage: 83.7+ KB\n"
     ]
    }
   ],
   "source": [
    "titanic.info()"
   ]
  },
  {
   "cell_type": "code",
   "execution_count": 7,
   "metadata": {},
   "outputs": [
    {
     "data": {
      "text/html": [
       "<div>\n",
       "<style scoped>\n",
       "    .dataframe tbody tr th:only-of-type {\n",
       "        vertical-align: middle;\n",
       "    }\n",
       "\n",
       "    .dataframe tbody tr th {\n",
       "        vertical-align: top;\n",
       "    }\n",
       "\n",
       "    .dataframe thead th {\n",
       "        text-align: right;\n",
       "    }\n",
       "</style>\n",
       "<table border=\"1\" class=\"dataframe\">\n",
       "  <thead>\n",
       "    <tr style=\"text-align: right;\">\n",
       "      <th></th>\n",
       "      <th>PassengerId</th>\n",
       "      <th>Survived</th>\n",
       "      <th>Pclass</th>\n",
       "      <th>Name</th>\n",
       "      <th>Sex</th>\n",
       "      <th>Age</th>\n",
       "      <th>SibSp</th>\n",
       "      <th>Parch</th>\n",
       "      <th>Ticket</th>\n",
       "      <th>Fare</th>\n",
       "      <th>Cabin</th>\n",
       "      <th>Embarked</th>\n",
       "    </tr>\n",
       "  </thead>\n",
       "  <tbody>\n",
       "    <tr>\n",
       "      <th>0</th>\n",
       "      <td>1</td>\n",
       "      <td>0</td>\n",
       "      <td>3</td>\n",
       "      <td>Braund, Mr. Owen Harris</td>\n",
       "      <td>male</td>\n",
       "      <td>22.0</td>\n",
       "      <td>1</td>\n",
       "      <td>0</td>\n",
       "      <td>A/5 21171</td>\n",
       "      <td>7.2500</td>\n",
       "      <td>NaN</td>\n",
       "      <td>S</td>\n",
       "    </tr>\n",
       "    <tr>\n",
       "      <th>1</th>\n",
       "      <td>2</td>\n",
       "      <td>1</td>\n",
       "      <td>1</td>\n",
       "      <td>Cumings, Mrs. John Bradley (Florence Briggs Th...</td>\n",
       "      <td>female</td>\n",
       "      <td>38.0</td>\n",
       "      <td>1</td>\n",
       "      <td>0</td>\n",
       "      <td>PC 17599</td>\n",
       "      <td>71.2833</td>\n",
       "      <td>C85</td>\n",
       "      <td>C</td>\n",
       "    </tr>\n",
       "    <tr>\n",
       "      <th>2</th>\n",
       "      <td>3</td>\n",
       "      <td>1</td>\n",
       "      <td>3</td>\n",
       "      <td>Heikkinen, Miss. Laina</td>\n",
       "      <td>female</td>\n",
       "      <td>26.0</td>\n",
       "      <td>0</td>\n",
       "      <td>0</td>\n",
       "      <td>STON/O2. 3101282</td>\n",
       "      <td>7.9250</td>\n",
       "      <td>NaN</td>\n",
       "      <td>S</td>\n",
       "    </tr>\n",
       "    <tr>\n",
       "      <th>3</th>\n",
       "      <td>4</td>\n",
       "      <td>1</td>\n",
       "      <td>1</td>\n",
       "      <td>Futrelle, Mrs. Jacques Heath (Lily May Peel)</td>\n",
       "      <td>female</td>\n",
       "      <td>35.0</td>\n",
       "      <td>1</td>\n",
       "      <td>0</td>\n",
       "      <td>113803</td>\n",
       "      <td>53.1000</td>\n",
       "      <td>C123</td>\n",
       "      <td>S</td>\n",
       "    </tr>\n",
       "    <tr>\n",
       "      <th>4</th>\n",
       "      <td>5</td>\n",
       "      <td>0</td>\n",
       "      <td>3</td>\n",
       "      <td>Allen, Mr. William Henry</td>\n",
       "      <td>male</td>\n",
       "      <td>35.0</td>\n",
       "      <td>0</td>\n",
       "      <td>0</td>\n",
       "      <td>373450</td>\n",
       "      <td>8.0500</td>\n",
       "      <td>NaN</td>\n",
       "      <td>S</td>\n",
       "    </tr>\n",
       "  </tbody>\n",
       "</table>\n",
       "</div>"
      ],
      "text/plain": [
       "   PassengerId  Survived  Pclass  \\\n",
       "0            1         0       3   \n",
       "1            2         1       1   \n",
       "2            3         1       3   \n",
       "3            4         1       1   \n",
       "4            5         0       3   \n",
       "\n",
       "                                                Name     Sex   Age  SibSp  \\\n",
       "0                            Braund, Mr. Owen Harris    male  22.0      1   \n",
       "1  Cumings, Mrs. John Bradley (Florence Briggs Th...  female  38.0      1   \n",
       "2                             Heikkinen, Miss. Laina  female  26.0      0   \n",
       "3       Futrelle, Mrs. Jacques Heath (Lily May Peel)  female  35.0      1   \n",
       "4                           Allen, Mr. William Henry    male  35.0      0   \n",
       "\n",
       "   Parch            Ticket     Fare Cabin Embarked  \n",
       "0      0         A/5 21171   7.2500   NaN        S  \n",
       "1      0          PC 17599  71.2833   C85        C  \n",
       "2      0  STON/O2. 3101282   7.9250   NaN        S  \n",
       "3      0            113803  53.1000  C123        S  \n",
       "4      0            373450   8.0500   NaN        S  "
      ]
     },
     "execution_count": 7,
     "metadata": {},
     "output_type": "execute_result"
    }
   ],
   "source": [
    "titanic.head()"
   ]
  },
  {
   "cell_type": "code",
   "execution_count": 9,
   "metadata": {},
   "outputs": [
    {
     "data": {
      "text/plain": [
       "PassengerId      0\n",
       "Survived         0\n",
       "Pclass           0\n",
       "Name             0\n",
       "Sex              0\n",
       "Age            177\n",
       "SibSp            0\n",
       "Parch            0\n",
       "Ticket           0\n",
       "Fare             0\n",
       "Cabin          687\n",
       "Embarked         2\n",
       "dtype: int64"
      ]
     },
     "execution_count": 9,
     "metadata": {},
     "output_type": "execute_result"
    }
   ],
   "source": [
    "titanic.isnull().sum()"
   ]
  },
  {
   "cell_type": "markdown",
   "metadata": {},
   "source": [
    "### Pclass"
   ]
  },
  {
   "cell_type": "code",
   "execution_count": 144,
   "metadata": {},
   "outputs": [
    {
     "data": {
      "text/html": [
       "<div>\n",
       "<style scoped>\n",
       "    .dataframe tbody tr th:only-of-type {\n",
       "        vertical-align: middle;\n",
       "    }\n",
       "\n",
       "    .dataframe tbody tr th {\n",
       "        vertical-align: top;\n",
       "    }\n",
       "\n",
       "    .dataframe thead th {\n",
       "        text-align: right;\n",
       "    }\n",
       "</style>\n",
       "<table border=\"1\" class=\"dataframe\">\n",
       "  <thead>\n",
       "    <tr style=\"text-align: right;\">\n",
       "      <th>Survived</th>\n",
       "      <th>0</th>\n",
       "      <th>1</th>\n",
       "    </tr>\n",
       "    <tr>\n",
       "      <th>Pclass</th>\n",
       "      <th></th>\n",
       "      <th></th>\n",
       "    </tr>\n",
       "  </thead>\n",
       "  <tbody>\n",
       "    <tr>\n",
       "      <th>1</th>\n",
       "      <td>0.370370</td>\n",
       "      <td>0.629630</td>\n",
       "    </tr>\n",
       "    <tr>\n",
       "      <th>2</th>\n",
       "      <td>0.527174</td>\n",
       "      <td>0.472826</td>\n",
       "    </tr>\n",
       "    <tr>\n",
       "      <th>3</th>\n",
       "      <td>0.757637</td>\n",
       "      <td>0.242363</td>\n",
       "    </tr>\n",
       "  </tbody>\n",
       "</table>\n",
       "</div>"
      ],
      "text/plain": [
       "Survived         0         1\n",
       "Pclass                      \n",
       "1         0.370370  0.629630\n",
       "2         0.527174  0.472826\n",
       "3         0.757637  0.242363"
      ]
     },
     "execution_count": 144,
     "metadata": {},
     "output_type": "execute_result"
    }
   ],
   "source": [
    "pclassTab = pd.crosstab(titanic['Pclass'], titanic['Survived'], normalize = 'index')\n",
    "pclassTab"
   ]
  },
  {
   "cell_type": "code",
   "execution_count": 145,
   "metadata": {},
   "outputs": [
    {
     "data": {
      "image/png": "[encoded data removed]",
      "text/plain": [
       "<Figure size 576x360 with 1 Axes>"
      ]
     },
     "metadata": {
      "needs_background": "light"
     },
     "output_type": "display_data"
    }
   ],
   "source": [
    "# figure creation and plotting of bars\n",
    "width = 0.8\n",
    "x = range(1,4)\n",
    "\n",
    "fig, ax = plt.subplots(figsize = (8,5))\n",
    "B1 = ax.bar(x, pclassTab[0], width, label = 'dead')\n",
    "B2 = ax.bar(x, pclassTab[1], width, bottom = pclassTab[0], label = 'lucky')\n",
    "\n",
    "ax.legend()\n",
    "plt.show()"
   ]
  },
  {
   "cell_type": "markdown",
   "metadata": {},
   "source": [
    "### Gender"
   ]
  },
  {
   "cell_type": "code",
   "execution_count": 157,
   "metadata": {},
   "outputs": [
    {
     "data": {
      "text/html": [
       "<div>\n",
       "<style scoped>\n",
       "    .dataframe tbody tr th:only-of-type {\n",
       "        vertical-align: middle;\n",
       "    }\n",
       "\n",
       "    .dataframe tbody tr th {\n",
       "        vertical-align: top;\n",
       "    }\n",
       "\n",
       "    .dataframe thead th {\n",
       "        text-align: right;\n",
       "    }\n",
       "</style>\n",
       "<table border=\"1\" class=\"dataframe\">\n",
       "  <thead>\n",
       "    <tr style=\"text-align: right;\">\n",
       "      <th>Survived</th>\n",
       "      <th>0</th>\n",
       "      <th>1</th>\n",
       "    </tr>\n",
       "    <tr>\n",
       "      <th>Sex</th>\n",
       "      <th></th>\n",
       "      <th></th>\n",
       "    </tr>\n",
       "  </thead>\n",
       "  <tbody>\n",
       "    <tr>\n",
       "      <th>female</th>\n",
       "      <td>0.257962</td>\n",
       "      <td>0.742038</td>\n",
       "    </tr>\n",
       "    <tr>\n",
       "      <th>male</th>\n",
       "      <td>0.811092</td>\n",
       "      <td>0.188908</td>\n",
       "    </tr>\n",
       "  </tbody>\n",
       "</table>\n",
       "</div>"
      ],
      "text/plain": [
       "Survived         0         1\n",
       "Sex                         \n",
       "female    0.257962  0.742038\n",
       "male      0.811092  0.188908"
      ]
     },
     "execution_count": 157,
     "metadata": {},
     "output_type": "execute_result"
    }
   ],
   "source": [
    "genderTab = pd.crosstab(titanic['Sex'], titanic['Survived'], normalize = 'index')\n",
    "genderTab"
   ]
  },
  {
   "cell_type": "code",
   "execution_count": 155,
   "metadata": {},
   "outputs": [
    {
     "data": {
      "image/png": "[encoded data removed]",
      "text/plain": [
       "<Figure size 576x360 with 1 Axes>"
      ]
     },
     "metadata": {
      "needs_background": "light"
     },
     "output_type": "display_data"
    }
   ],
   "source": [
    "# figure creation and plotting of bars\n",
    "width = 0.8\n",
    "x = range(1,3)\n",
    "xlab = list(genderTab.index)\n",
    "fig, ax = plt.subplots(figsize = (8,5))\n",
    "B1 = ax.bar(x, genderTab[0], width, label = 'dead')\n",
    "B2 = ax.bar(x, genderTab[1], width, bottom = genderTab[0], label = 'lucky')\n",
    "\n",
    "ax.set_xticks(x)\n",
    "ax.set_xticklabels(list(genderTab.index))\n",
    "\n",
    "ax.legend()\n",
    "plt.show()"
   ]
  },
  {
   "cell_type": "markdown",
   "metadata": {},
   "source": [
    "### Cabin"
   ]
  },
  {
   "cell_type": "code",
   "execution_count": 108,
   "metadata": {},
   "outputs": [
    {
     "data": {
      "text/plain": [
       "C23 C25 C27    4\n",
       "B96 B98        4\n",
       "G6             4\n",
       "F33            3\n",
       "F2             3\n",
       "              ..\n",
       "B50            1\n",
       "B82 B84        1\n",
       "B79            1\n",
       "B4             1\n",
       "B42            1\n",
       "Name: Cabin, Length: 147, dtype: int64"
      ]
     },
     "execution_count": 108,
     "metadata": {},
     "output_type": "execute_result"
    }
   ],
   "source": [
    "titanic['Cabin'].value_counts()"
   ]
  },
  {
   "cell_type": "markdown",
   "metadata": {},
   "source": [
    "### Fare"
   ]
  },
  {
   "cell_type": "code",
   "execution_count": 210,
   "metadata": {},
   "outputs": [
    {
     "data": {
      "text/plain": [
       "<matplotlib.axes._subplots.AxesSubplot at 0x1ef011b4278>"
      ]
     },
     "execution_count": 210,
     "metadata": {},
     "output_type": "execute_result"
    },
    {
     "data": {
      "image/png": "[encoded data removed]",
      "text/plain": [
       "<Figure size 432x288 with 1 Axes>"
      ]
     },
     "metadata": {
      "needs_background": "light"
     },
     "output_type": "display_data"
    }
   ],
   "source": [
    "titanic['Fare'].plot(kind = 'box')"
   ]
  },
  {
   "cell_type": "code",
   "execution_count": 211,
   "metadata": {},
   "outputs": [
    {
     "data": {
      "text/plain": [
       "<matplotlib.axes._subplots.AxesSubplot at 0x1ef0122af28>"
      ]
     },
     "execution_count": 211,
     "metadata": {},
     "output_type": "execute_result"
    },
    {
     "data": {
      "image/png": "[encoded data removed]",
      "text/plain": [
       "<Figure size 432x288 with 1 Axes>"
      ]
     },
     "metadata": {
      "needs_background": "light"
     },
     "output_type": "display_data"
    }
   ],
   "source": [
    "titanic['Fare'].plot(kind = 'hist')"
   ]
  },
  {
   "cell_type": "code",
   "execution_count": 235,
   "metadata": {},
   "outputs": [
    {
     "data": {
      "text/plain": [
       "<matplotlib.axes._subplots.AxesSubplot at 0x1ef02466ef0>"
      ]
     },
     "execution_count": 235,
     "metadata": {},
     "output_type": "execute_result"
    },
    {
     "data": {
      "image/png": "[encoded data removed]",
      "text/plain": [
       "<Figure size 432x288 with 1 Axes>"
      ]
     },
     "metadata": {
      "needs_background": "light"
     },
     "output_type": "display_data"
    }
   ],
   "source": [
    "C1Fare = titanic[titanic['Pclass'] == 1]['Fare']\n",
    "C1Fare.hist()"
   ]
  },
  {
   "cell_type": "code",
   "execution_count": 238,
   "metadata": {},
   "outputs": [
    {
     "data": {
      "text/plain": [
       "<matplotlib.axes._subplots.AxesSubplot at 0x1ef024e98d0>"
      ]
     },
     "execution_count": 238,
     "metadata": {},
     "output_type": "execute_result"
    },
    {
     "data": {
      "image/png": "[encoded data removed]",
      "text/plain": [
       "<Figure size 432x288 with 1 Axes>"
      ]
     },
     "metadata": {
      "needs_background": "light"
     },
     "output_type": "display_data"
    }
   ],
   "source": [
    "C2Fare = titanic[titanic['Pclass'] == 2]['Fare']\n",
    "C2Fare.hist()"
   ]
  },
  {
   "cell_type": "code",
   "execution_count": 239,
   "metadata": {},
   "outputs": [
    {
     "data": {
      "text/plain": [
       "<matplotlib.axes._subplots.AxesSubplot at 0x1ef02559f60>"
      ]
     },
     "execution_count": 239,
     "metadata": {},
     "output_type": "execute_result"
    },
    {
     "data": {
      "image/png": "[encoded data removed]",
      "text/plain": [
       "<Figure size 432x288 with 1 Axes>"
      ]
     },
     "metadata": {
      "needs_background": "light"
     },
     "output_type": "display_data"
    }
   ],
   "source": [
    "C3Fare = titanic[titanic['Pclass'] == 3]['Fare']\n",
    "C3Fare.hist()"
   ]
  },
  {
   "cell_type": "code",
   "execution_count": 240,
   "metadata": {},
   "outputs": [
    {
     "data": {
      "text/plain": [
       "49.66553444477411"
      ]
     },
     "execution_count": 240,
     "metadata": {},
     "output_type": "execute_result"
    }
   ],
   "source": [
    "np.std(titanic['Fare'])"
   ]
  },
  {
   "cell_type": "markdown",
   "metadata": {},
   "source": [
    "### AGE"
   ]
  },
  {
   "cell_type": "code",
   "execution_count": 148,
   "metadata": {},
   "outputs": [
    {
     "data": {
      "text/plain": [
       "1    33\n",
       "0    14\n",
       "Name: Survived, dtype: int64"
      ]
     },
     "execution_count": 148,
     "metadata": {},
     "output_type": "execute_result"
    }
   ],
   "source": [
    "infant = titanic[titanic['Age'] <= 6]\n",
    "infant['Survived'].value_counts()"
   ]
  },
  {
   "cell_type": "code",
   "execution_count": 147,
   "metadata": {},
   "outputs": [
    {
     "data": {
      "text/plain": [
       "0    83\n",
       "1    49\n",
       "Name: Survived, dtype: int64"
      ]
     },
     "execution_count": 147,
     "metadata": {},
     "output_type": "execute_result"
    }
   ],
   "source": [
    "kids = titanic[(titanic['Age'] > 6) & (titanic['Age'] <= 20)]\n",
    "kids['Survived'].value_counts()"
   ]
  },
  {
   "cell_type": "code",
   "execution_count": 146,
   "metadata": {},
   "outputs": [
    {
     "data": {
      "text/plain": [
       "0    285\n",
       "1    186\n",
       "Name: Survived, dtype: int64"
      ]
     },
     "execution_count": 146,
     "metadata": {},
     "output_type": "execute_result"
    }
   ],
   "source": [
    "teens = titanic[(titanic['Age'] > 15) & (titanic['Age'] <= 20)]\n",
    "teens['Survived'].value_counts()"
   ]
  },
  {
   "cell_type": "code",
   "execution_count": 65,
   "metadata": {},
   "outputs": [
    {
     "data": {
      "text/plain": [
       "0    0.605096\n",
       "1    0.394904\n",
       "Name: Survived, dtype: float64"
      ]
     },
     "execution_count": 65,
     "metadata": {},
     "output_type": "execute_result"
    }
   ],
   "source": [
    "adult = titanic[(titanic['Age'] > 20) & (titanic['Age'] <= 50)]\n",
    "adult['Survived'].value_counts(normalize = True)"
   ]
  },
  {
   "cell_type": "code",
   "execution_count": 64,
   "metadata": {},
   "outputs": [
    {
     "data": {
      "text/plain": [
       "0    0.65625\n",
       "1    0.34375\n",
       "Name: Survived, dtype: float64"
      ]
     },
     "execution_count": 64,
     "metadata": {},
     "output_type": "execute_result"
    }
   ],
   "source": [
    "adult = titanic[titanic['Age'] > 50]\n",
    "adult['Survived'].value_counts(normalize = True)"
   ]
  },
  {
   "cell_type": "code",
   "execution_count": 67,
   "metadata": {},
   "outputs": [
    {
     "data": {
      "image/png": "[encoded data removed]",
      "text/plain": [
       "<Figure size 432x288 with 1 Axes>"
      ]
     },
     "metadata": {},
     "output_type": "display_data"
    }
   ],
   "source": [
    "# Age distribution\n",
    "x = titanic['Age']\n",
    "sns.set()\n",
    "ax = sns.distplot(x)"
   ]
  },
  {
   "cell_type": "code",
   "execution_count": 68,
   "metadata": {},
   "outputs": [
    {
     "data": {
      "image/png": "[encoded data removed]",
      "text/plain": [
       "<Figure size 432x288 with 1 Axes>"
      ]
     },
     "metadata": {},
     "output_type": "display_data"
    }
   ],
   "source": [
    "# Survived Age Distribution\n",
    "x = titanic[titanic['Survived'] == 1]['Age']\n",
    "\n",
    "ax = sns.distplot(x)"
   ]
  },
  {
   "cell_type": "code",
   "execution_count": 69,
   "metadata": {},
   "outputs": [
    {
     "data": {
      "image/png": "[encoded data removed]",
      "text/plain": [
       "<Figure size 432x288 with 1 Axes>"
      ]
     },
     "metadata": {},
     "output_type": "display_data"
    }
   ],
   "source": [
    "# Deads Age Distribution\n",
    "x = titanic[titanic['Survived'] == 0]['Age']\n",
    "\n",
    "ax = sns.distplot(x)"
   ]
  },
  {
   "cell_type": "code",
   "execution_count": 70,
   "metadata": {},
   "outputs": [
    {
     "data": {
      "image/png": "[encoded data removed]",
      "text/plain": [
       "<Figure size 432x288 with 1 Axes>"
      ]
     },
     "metadata": {},
     "output_type": "display_data"
    }
   ],
   "source": [
    "ax = sns.boxplot(x=\"Survived\", y=\"Age\", data=titanic)"
   ]
  },
  {
   "cell_type": "markdown",
   "metadata": {},
   "source": [
    "### Data prep"
   ]
  },
  {
   "cell_type": "code",
   "execution_count": 109,
   "metadata": {},
   "outputs": [
    {
     "data": {
      "text/html": [
       "<div>\n",
       "<style scoped>\n",
       "    .dataframe tbody tr th:only-of-type {\n",
       "        vertical-align: middle;\n",
       "    }\n",
       "\n",
       "    .dataframe tbody tr th {\n",
       "        vertical-align: top;\n",
       "    }\n",
       "\n",
       "    .dataframe thead th {\n",
       "        text-align: right;\n",
       "    }\n",
       "</style>\n",
       "<table border=\"1\" class=\"dataframe\">\n",
       "  <thead>\n",
       "    <tr style=\"text-align: right;\">\n",
       "      <th></th>\n",
       "      <th>Survived</th>\n",
       "      <th>Pclass</th>\n",
       "      <th>Sex</th>\n",
       "      <th>Embarked</th>\n",
       "    </tr>\n",
       "  </thead>\n",
       "  <tbody>\n",
       "    <tr>\n",
       "      <th>0</th>\n",
       "      <td>0</td>\n",
       "      <td>3</td>\n",
       "      <td>male</td>\n",
       "      <td>S</td>\n",
       "    </tr>\n",
       "    <tr>\n",
       "      <th>1</th>\n",
       "      <td>1</td>\n",
       "      <td>1</td>\n",
       "      <td>female</td>\n",
       "      <td>C</td>\n",
       "    </tr>\n",
       "    <tr>\n",
       "      <th>2</th>\n",
       "      <td>1</td>\n",
       "      <td>3</td>\n",
       "      <td>female</td>\n",
       "      <td>S</td>\n",
       "    </tr>\n",
       "    <tr>\n",
       "      <th>3</th>\n",
       "      <td>1</td>\n",
       "      <td>1</td>\n",
       "      <td>female</td>\n",
       "      <td>S</td>\n",
       "    </tr>\n",
       "    <tr>\n",
       "      <th>4</th>\n",
       "      <td>0</td>\n",
       "      <td>3</td>\n",
       "      <td>male</td>\n",
       "      <td>S</td>\n",
       "    </tr>\n",
       "  </tbody>\n",
       "</table>\n",
       "</div>"
      ],
      "text/plain": [
       "   Survived  Pclass     Sex Embarked\n",
       "0         0       3    male        S\n",
       "1         1       1  female        C\n",
       "2         1       3  female        S\n",
       "3         1       1  female        S\n",
       "4         0       3    male        S"
      ]
     },
     "execution_count": 109,
     "metadata": {},
     "output_type": "execute_result"
    }
   ],
   "source": [
    "X = titanic.drop(labels = ['PassengerId','Name','Ticket', 'Cabin', 'Age', 'SibSp', 'Parch', 'Fare'], axis = 1)\n",
    "X.head()"
   ]
  },
  {
   "cell_type": "code",
   "execution_count": 99,
   "metadata": {},
   "outputs": [
    {
     "data": {
      "text/plain": [
       "Survived    0\n",
       "Pclass      0\n",
       "Sex         0\n",
       "SibSp       0\n",
       "Parch       0\n",
       "Fare        0\n",
       "Embarked    2\n",
       "dtype: int64"
      ]
     },
     "execution_count": 99,
     "metadata": {},
     "output_type": "execute_result"
    }
   ],
   "source": [
    "X.isnull().sum()"
   ]
  },
  {
   "cell_type": "code",
   "execution_count": 100,
   "metadata": {},
   "outputs": [
    {
     "data": {
      "text/plain": [
       "male      577\n",
       "female    314\n",
       "Name: Sex, dtype: int64"
      ]
     },
     "execution_count": 100,
     "metadata": {},
     "output_type": "execute_result"
    }
   ],
   "source": [
    "X['Sex'].value_counts()"
   ]
  },
  {
   "cell_type": "code",
   "execution_count": 101,
   "metadata": {},
   "outputs": [],
   "source": [
    "X['Sex'].replace(to_replace = ['male', 'female'], value = [1,0], inplace = True)\n",
    "# Male -> 1, Female -> 0"
   ]
  },
  {
   "cell_type": "code",
   "execution_count": 102,
   "metadata": {},
   "outputs": [],
   "source": [
    "temp = pd.get_dummies(X['Embarked'])"
   ]
  },
  {
   "cell_type": "code",
   "execution_count": 103,
   "metadata": {},
   "outputs": [],
   "source": [
    "X.drop(labels = 'Embarked', axis = 1, inplace = True)\n",
    "X = pd.concat([X, temp], axis = 1)"
   ]
  },
  {
   "cell_type": "code",
   "execution_count": 104,
   "metadata": {},
   "outputs": [
    {
     "data": {
      "text/plain": [
       "(891, 9)"
      ]
     },
     "execution_count": 104,
     "metadata": {},
     "output_type": "execute_result"
    }
   ],
   "source": [
    "X.dropna(inplace = True)\n",
    "X.shape"
   ]
  },
  {
   "cell_type": "code",
   "execution_count": 105,
   "metadata": {},
   "outputs": [
    {
     "data": {
      "text/plain": [
       "Survived    0\n",
       "Pclass      0\n",
       "Sex         0\n",
       "SibSp       0\n",
       "Parch       0\n",
       "Fare        0\n",
       "C           0\n",
       "Q           0\n",
       "S           0\n",
       "dtype: int64"
      ]
     },
     "execution_count": 105,
     "metadata": {},
     "output_type": "execute_result"
    }
   ],
   "source": [
    "X.isnull().sum()"
   ]
  },
  {
   "cell_type": "code",
   "execution_count": 106,
   "metadata": {},
   "outputs": [],
   "source": [
    "y = X['Survived']\n",
    "X.drop(labels = 'Survived', axis = 1, inplace = True)"
   ]
  },
  {
   "cell_type": "code",
   "execution_count": 113,
   "metadata": {},
   "outputs": [],
   "source": [
    "# Drop non-valuable variables\n",
    "X = titanic.drop(labels = ['PassengerId','Name','Ticket', 'Cabin', 'SibSp', 'Parch', 'Fare'], axis = 1)\n",
    "\n",
    "# Male -> 1, Female -> 0\n",
    "X['Sex'].replace(to_replace = ['male', 'female'], value = [1,0], inplace = True)\n",
    "\n",
    "# One Hot encoding for Embarked\n",
    "temp = pd.get_dummies(X['Embarked'])\n",
    "X.drop(labels = 'Embarked', axis = 1, inplace = True)\n",
    "X = pd.concat([X, temp], axis = 1)\n",
    "\n",
    "# Remove Nulls\n",
    "X.dropna(inplace = True)\n",
    "\n",
    "# X & y\n",
    "y = X['Survived']\n",
    "X.drop(labels = 'Survived', axis = 1, inplace = True)"
   ]
  },
  {
   "cell_type": "markdown",
   "metadata": {},
   "source": [
    "## KNN"
   ]
  },
  {
   "cell_type": "code",
   "execution_count": 114,
   "metadata": {
    "scrolled": false
   },
   "outputs": [
    {
     "data": {
      "text/html": [
       "<div>\n",
       "<style scoped>\n",
       "    .dataframe tbody tr th:only-of-type {\n",
       "        vertical-align: middle;\n",
       "    }\n",
       "\n",
       "    .dataframe tbody tr th {\n",
       "        vertical-align: top;\n",
       "    }\n",
       "\n",
       "    .dataframe thead th {\n",
       "        text-align: right;\n",
       "    }\n",
       "</style>\n",
       "<table border=\"1\" class=\"dataframe\">\n",
       "  <thead>\n",
       "    <tr style=\"text-align: right;\">\n",
       "      <th></th>\n",
       "      <th>mean_fit_time</th>\n",
       "      <th>std_fit_time</th>\n",
       "      <th>mean_score_time</th>\n",
       "      <th>std_score_time</th>\n",
       "      <th>param_n_neighbors</th>\n",
       "      <th>param_p</th>\n",
       "      <th>param_weights</th>\n",
       "      <th>params</th>\n",
       "      <th>split0_test_score</th>\n",
       "      <th>split1_test_score</th>\n",
       "      <th>...</th>\n",
       "      <th>split3_test_score</th>\n",
       "      <th>split4_test_score</th>\n",
       "      <th>split5_test_score</th>\n",
       "      <th>split6_test_score</th>\n",
       "      <th>split7_test_score</th>\n",
       "      <th>split8_test_score</th>\n",
       "      <th>split9_test_score</th>\n",
       "      <th>mean_test_score</th>\n",
       "      <th>std_test_score</th>\n",
       "      <th>rank_test_score</th>\n",
       "    </tr>\n",
       "  </thead>\n",
       "  <tbody>\n",
       "    <tr>\n",
       "      <th>23</th>\n",
       "      <td>0.005857</td>\n",
       "      <td>0.003892</td>\n",
       "      <td>0.002890</td>\n",
       "      <td>0.003168</td>\n",
       "      <td>6</td>\n",
       "      <td>2</td>\n",
       "      <td>distance</td>\n",
       "      <td>{'n_neighbors': 6, 'p': 2, 'weights': 'distance'}</td>\n",
       "      <td>0.736111</td>\n",
       "      <td>0.791667</td>\n",
       "      <td>...</td>\n",
       "      <td>0.736111</td>\n",
       "      <td>0.760563</td>\n",
       "      <td>0.746479</td>\n",
       "      <td>0.816901</td>\n",
       "      <td>0.802817</td>\n",
       "      <td>0.845070</td>\n",
       "      <td>0.788732</td>\n",
       "      <td>0.785779</td>\n",
       "      <td>0.037674</td>\n",
       "      <td>1</td>\n",
       "    </tr>\n",
       "    <tr>\n",
       "      <th>21</th>\n",
       "      <td>0.005970</td>\n",
       "      <td>0.002799</td>\n",
       "      <td>0.002681</td>\n",
       "      <td>0.003148</td>\n",
       "      <td>6</td>\n",
       "      <td>1</td>\n",
       "      <td>distance</td>\n",
       "      <td>{'n_neighbors': 6, 'p': 1, 'weights': 'distance'}</td>\n",
       "      <td>0.722222</td>\n",
       "      <td>0.805556</td>\n",
       "      <td>...</td>\n",
       "      <td>0.763889</td>\n",
       "      <td>0.774648</td>\n",
       "      <td>0.746479</td>\n",
       "      <td>0.816901</td>\n",
       "      <td>0.802817</td>\n",
       "      <td>0.802817</td>\n",
       "      <td>0.788732</td>\n",
       "      <td>0.785739</td>\n",
       "      <td>0.032245</td>\n",
       "      <td>2</td>\n",
       "    </tr>\n",
       "    <tr>\n",
       "      <th>27</th>\n",
       "      <td>0.004282</td>\n",
       "      <td>0.003201</td>\n",
       "      <td>0.002985</td>\n",
       "      <td>0.003479</td>\n",
       "      <td>7</td>\n",
       "      <td>2</td>\n",
       "      <td>distance</td>\n",
       "      <td>{'n_neighbors': 7, 'p': 2, 'weights': 'distance'}</td>\n",
       "      <td>0.722222</td>\n",
       "      <td>0.805556</td>\n",
       "      <td>...</td>\n",
       "      <td>0.722222</td>\n",
       "      <td>0.760563</td>\n",
       "      <td>0.760563</td>\n",
       "      <td>0.816901</td>\n",
       "      <td>0.802817</td>\n",
       "      <td>0.845070</td>\n",
       "      <td>0.788732</td>\n",
       "      <td>0.784409</td>\n",
       "      <td>0.039547</td>\n",
       "      <td>3</td>\n",
       "    </tr>\n",
       "    <tr>\n",
       "      <th>15</th>\n",
       "      <td>0.006042</td>\n",
       "      <td>0.001701</td>\n",
       "      <td>0.002684</td>\n",
       "      <td>0.001403</td>\n",
       "      <td>4</td>\n",
       "      <td>2</td>\n",
       "      <td>distance</td>\n",
       "      <td>{'n_neighbors': 4, 'p': 2, 'weights': 'distance'}</td>\n",
       "      <td>0.708333</td>\n",
       "      <td>0.819444</td>\n",
       "      <td>...</td>\n",
       "      <td>0.750000</td>\n",
       "      <td>0.788732</td>\n",
       "      <td>0.774648</td>\n",
       "      <td>0.816901</td>\n",
       "      <td>0.802817</td>\n",
       "      <td>0.802817</td>\n",
       "      <td>0.774648</td>\n",
       "      <td>0.784390</td>\n",
       "      <td>0.032541</td>\n",
       "      <td>4</td>\n",
       "    </tr>\n",
       "    <tr>\n",
       "      <th>25</th>\n",
       "      <td>0.005018</td>\n",
       "      <td>0.002878</td>\n",
       "      <td>0.002945</td>\n",
       "      <td>0.003237</td>\n",
       "      <td>7</td>\n",
       "      <td>1</td>\n",
       "      <td>distance</td>\n",
       "      <td>{'n_neighbors': 7, 'p': 1, 'weights': 'distance'}</td>\n",
       "      <td>0.722222</td>\n",
       "      <td>0.805556</td>\n",
       "      <td>...</td>\n",
       "      <td>0.750000</td>\n",
       "      <td>0.774648</td>\n",
       "      <td>0.760563</td>\n",
       "      <td>0.816901</td>\n",
       "      <td>0.788732</td>\n",
       "      <td>0.802817</td>\n",
       "      <td>0.774648</td>\n",
       "      <td>0.784331</td>\n",
       "      <td>0.034083</td>\n",
       "      <td>5</td>\n",
       "    </tr>\n",
       "    <tr>\n",
       "      <th>31</th>\n",
       "      <td>0.003980</td>\n",
       "      <td>0.002652</td>\n",
       "      <td>0.002035</td>\n",
       "      <td>0.003120</td>\n",
       "      <td>8</td>\n",
       "      <td>2</td>\n",
       "      <td>distance</td>\n",
       "      <td>{'n_neighbors': 8, 'p': 2, 'weights': 'distance'}</td>\n",
       "      <td>0.736111</td>\n",
       "      <td>0.750000</td>\n",
       "      <td>...</td>\n",
       "      <td>0.736111</td>\n",
       "      <td>0.760563</td>\n",
       "      <td>0.774648</td>\n",
       "      <td>0.816901</td>\n",
       "      <td>0.802817</td>\n",
       "      <td>0.845070</td>\n",
       "      <td>0.788732</td>\n",
       "      <td>0.783040</td>\n",
       "      <td>0.035798</td>\n",
       "      <td>6</td>\n",
       "    </tr>\n",
       "    <tr>\n",
       "      <th>29</th>\n",
       "      <td>0.006033</td>\n",
       "      <td>0.002812</td>\n",
       "      <td>0.003013</td>\n",
       "      <td>0.003152</td>\n",
       "      <td>8</td>\n",
       "      <td>1</td>\n",
       "      <td>distance</td>\n",
       "      <td>{'n_neighbors': 8, 'p': 1, 'weights': 'distance'}</td>\n",
       "      <td>0.722222</td>\n",
       "      <td>0.791667</td>\n",
       "      <td>...</td>\n",
       "      <td>0.750000</td>\n",
       "      <td>0.760563</td>\n",
       "      <td>0.788732</td>\n",
       "      <td>0.816901</td>\n",
       "      <td>0.788732</td>\n",
       "      <td>0.816901</td>\n",
       "      <td>0.774648</td>\n",
       "      <td>0.781592</td>\n",
       "      <td>0.028783</td>\n",
       "      <td>7</td>\n",
       "    </tr>\n",
       "    <tr>\n",
       "      <th>13</th>\n",
       "      <td>0.005110</td>\n",
       "      <td>0.002161</td>\n",
       "      <td>0.003257</td>\n",
       "      <td>0.002461</td>\n",
       "      <td>4</td>\n",
       "      <td>1</td>\n",
       "      <td>distance</td>\n",
       "      <td>{'n_neighbors': 4, 'p': 1, 'weights': 'distance'}</td>\n",
       "      <td>0.708333</td>\n",
       "      <td>0.819444</td>\n",
       "      <td>...</td>\n",
       "      <td>0.750000</td>\n",
       "      <td>0.788732</td>\n",
       "      <td>0.774648</td>\n",
       "      <td>0.802817</td>\n",
       "      <td>0.802817</td>\n",
       "      <td>0.816901</td>\n",
       "      <td>0.746479</td>\n",
       "      <td>0.781573</td>\n",
       "      <td>0.034426</td>\n",
       "      <td>8</td>\n",
       "    </tr>\n",
       "    <tr>\n",
       "      <th>33</th>\n",
       "      <td>0.005177</td>\n",
       "      <td>0.002534</td>\n",
       "      <td>0.002423</td>\n",
       "      <td>0.003016</td>\n",
       "      <td>9</td>\n",
       "      <td>1</td>\n",
       "      <td>distance</td>\n",
       "      <td>{'n_neighbors': 9, 'p': 1, 'weights': 'distance'}</td>\n",
       "      <td>0.722222</td>\n",
       "      <td>0.791667</td>\n",
       "      <td>...</td>\n",
       "      <td>0.750000</td>\n",
       "      <td>0.760563</td>\n",
       "      <td>0.788732</td>\n",
       "      <td>0.802817</td>\n",
       "      <td>0.802817</td>\n",
       "      <td>0.788732</td>\n",
       "      <td>0.774648</td>\n",
       "      <td>0.781553</td>\n",
       "      <td>0.029656</td>\n",
       "      <td>9</td>\n",
       "    </tr>\n",
       "    <tr>\n",
       "      <th>17</th>\n",
       "      <td>0.006549</td>\n",
       "      <td>0.001848</td>\n",
       "      <td>0.002463</td>\n",
       "      <td>0.001608</td>\n",
       "      <td>5</td>\n",
       "      <td>1</td>\n",
       "      <td>distance</td>\n",
       "      <td>{'n_neighbors': 5, 'p': 1, 'weights': 'distance'}</td>\n",
       "      <td>0.722222</td>\n",
       "      <td>0.819444</td>\n",
       "      <td>...</td>\n",
       "      <td>0.763889</td>\n",
       "      <td>0.774648</td>\n",
       "      <td>0.760563</td>\n",
       "      <td>0.788732</td>\n",
       "      <td>0.802817</td>\n",
       "      <td>0.816901</td>\n",
       "      <td>0.732394</td>\n",
       "      <td>0.781495</td>\n",
       "      <td>0.035507</td>\n",
       "      <td>10</td>\n",
       "    </tr>\n",
       "  </tbody>\n",
       "</table>\n",
       "<p>10 rows × 21 columns</p>\n",
       "</div>"
      ],
      "text/plain": [
       "    mean_fit_time  std_fit_time  mean_score_time  std_score_time  \\\n",
       "23       0.005857      0.003892         0.002890        0.003168   \n",
       "21       0.005970      0.002799         0.002681        0.003148   \n",
       "27       0.004282      0.003201         0.002985        0.003479   \n",
       "15       0.006042      0.001701         0.002684        0.001403   \n",
       "25       0.005018      0.002878         0.002945        0.003237   \n",
       "31       0.003980      0.002652         0.002035        0.003120   \n",
       "29       0.006033      0.002812         0.003013        0.003152   \n",
       "13       0.005110      0.002161         0.003257        0.002461   \n",
       "33       0.005177      0.002534         0.002423        0.003016   \n",
       "17       0.006549      0.001848         0.002463        0.001608   \n",
       "\n",
       "   param_n_neighbors param_p param_weights  \\\n",
       "23                 6       2      distance   \n",
       "21                 6       1      distance   \n",
       "27                 7       2      distance   \n",
       "15                 4       2      distance   \n",
       "25                 7       1      distance   \n",
       "31                 8       2      distance   \n",
       "29                 8       1      distance   \n",
       "13                 4       1      distance   \n",
       "33                 9       1      distance   \n",
       "17                 5       1      distance   \n",
       "\n",
       "                                               params  split0_test_score  \\\n",
       "23  {'n_neighbors': 6, 'p': 2, 'weights': 'distance'}           0.736111   \n",
       "21  {'n_neighbors': 6, 'p': 1, 'weights': 'distance'}           0.722222   \n",
       "27  {'n_neighbors': 7, 'p': 2, 'weights': 'distance'}           0.722222   \n",
       "15  {'n_neighbors': 4, 'p': 2, 'weights': 'distance'}           0.708333   \n",
       "25  {'n_neighbors': 7, 'p': 1, 'weights': 'distance'}           0.722222   \n",
       "31  {'n_neighbors': 8, 'p': 2, 'weights': 'distance'}           0.736111   \n",
       "29  {'n_neighbors': 8, 'p': 1, 'weights': 'distance'}           0.722222   \n",
       "13  {'n_neighbors': 4, 'p': 1, 'weights': 'distance'}           0.708333   \n",
       "33  {'n_neighbors': 9, 'p': 1, 'weights': 'distance'}           0.722222   \n",
       "17  {'n_neighbors': 5, 'p': 1, 'weights': 'distance'}           0.722222   \n",
       "\n",
       "    split1_test_score  ...  split3_test_score  split4_test_score  \\\n",
       "23           0.791667  ...           0.736111           0.760563   \n",
       "21           0.805556  ...           0.763889           0.774648   \n",
       "27           0.805556  ...           0.722222           0.760563   \n",
       "15           0.819444  ...           0.750000           0.788732   \n",
       "25           0.805556  ...           0.750000           0.774648   \n",
       "31           0.750000  ...           0.736111           0.760563   \n",
       "29           0.791667  ...           0.750000           0.760563   \n",
       "13           0.819444  ...           0.750000           0.788732   \n",
       "33           0.791667  ...           0.750000           0.760563   \n",
       "17           0.819444  ...           0.763889           0.774648   \n",
       "\n",
       "    split5_test_score  split6_test_score  split7_test_score  \\\n",
       "23           0.746479           0.816901           0.802817   \n",
       "21           0.746479           0.816901           0.802817   \n",
       "27           0.760563           0.816901           0.802817   \n",
       "15           0.774648           0.816901           0.802817   \n",
       "25           0.760563           0.816901           0.788732   \n",
       "31           0.774648           0.816901           0.802817   \n",
       "29           0.788732           0.816901           0.788732   \n",
       "13           0.774648           0.802817           0.802817   \n",
       "33           0.788732           0.802817           0.802817   \n",
       "17           0.760563           0.788732           0.802817   \n",
       "\n",
       "    split8_test_score  split9_test_score  mean_test_score  std_test_score  \\\n",
       "23           0.845070           0.788732         0.785779        0.037674   \n",
       "21           0.802817           0.788732         0.785739        0.032245   \n",
       "27           0.845070           0.788732         0.784409        0.039547   \n",
       "15           0.802817           0.774648         0.784390        0.032541   \n",
       "25           0.802817           0.774648         0.784331        0.034083   \n",
       "31           0.845070           0.788732         0.783040        0.035798   \n",
       "29           0.816901           0.774648         0.781592        0.028783   \n",
       "13           0.816901           0.746479         0.781573        0.034426   \n",
       "33           0.788732           0.774648         0.781553        0.029656   \n",
       "17           0.816901           0.732394         0.781495        0.035507   \n",
       "\n",
       "    rank_test_score  \n",
       "23                1  \n",
       "21                2  \n",
       "27                3  \n",
       "15                4  \n",
       "25                5  \n",
       "31                6  \n",
       "29                7  \n",
       "13                8  \n",
       "33                9  \n",
       "17               10  \n",
       "\n",
       "[10 rows x 21 columns]"
      ]
     },
     "execution_count": 114,
     "metadata": {},
     "output_type": "execute_result"
    }
   ],
   "source": [
    "#Grid Search\n",
    "from sklearn.model_selection import GridSearchCV, KFold\n",
    "from sklearn.neighbors import KNeighborsClassifier\n",
    "\n",
    "kf = KFold(n_splits = 10, shuffle = True, random_state = 20)\n",
    "\n",
    "params = {'n_neighbors' : list(range(1,10)),\n",
    "          'weights' : ('uniform', 'distance'),\n",
    "          'p' : [1,2]}\n",
    "\n",
    "KNN = KNeighborsClassifier()\n",
    "clf = GridSearchCV(KNN, params, cv = kf.split(X))\n",
    "clf.fit(X, y)\n",
    "resKNN = pd.DataFrame(clf.cv_results_)\n",
    "resKNN.sort_values(by = 'rank_test_score').head(10)"
   ]
  },
  {
   "cell_type": "code",
   "execution_count": 223,
   "metadata": {
    "scrolled": false
   },
   "outputs": [
    {
     "data": {
      "image/png": "[encoded data removed]",
      "text/plain": [
       "<Figure size 432x288 with 1 Axes>"
      ]
     },
     "metadata": {
      "needs_background": "light"
     },
     "output_type": "display_data"
    }
   ],
   "source": [
    "KNN_scores = []\n",
    "kf = KFold(n_splits = 10, shuffle = True, random_state = 20)\n",
    "\n",
    "for train_index, test_index in kf.split(X):\n",
    "    X_train, X_test = X.iloc[train_index], X.iloc[test_index]\n",
    "    y_train, y_test = y.iloc[train_index], y.iloc[test_index]\n",
    "    \n",
    "    #KNN\n",
    "    KNN = KNeighborsClassifier(n_neighbors = 7, weights = 'distance', p = 1)\n",
    "    KNNfit = KNN.fit(X_train, y_train)\n",
    "    KNN_scores.append(KNNfit.score(X_test,y_test))\n",
    "    \n",
    "\n",
    "fig, ax1 = plt.subplots()    \n",
    "# Boxplot mean accuracy\n",
    "ax1.boxplot(x = [KNN_scores])\n",
    "ax1.set_title(\"Mean Accuracy Scores of KNN and Decision Tree\", size = 16, pad = 20)\n",
    "\n",
    "plt.show()"
   ]
  },
  {
   "cell_type": "markdown",
   "metadata": {},
   "source": [
    "### Heuristics"
   ]
  },
  {
   "cell_type": "code",
   "execution_count": 207,
   "metadata": {},
   "outputs": [
    {
     "data": {
      "text/html": [
       "<div>\n",
       "<style scoped>\n",
       "    .dataframe tbody tr th:only-of-type {\n",
       "        vertical-align: middle;\n",
       "    }\n",
       "\n",
       "    .dataframe tbody tr th {\n",
       "        vertical-align: top;\n",
       "    }\n",
       "\n",
       "    .dataframe thead th {\n",
       "        text-align: right;\n",
       "    }\n",
       "</style>\n",
       "<table border=\"1\" class=\"dataframe\">\n",
       "  <thead>\n",
       "    <tr style=\"text-align: right;\">\n",
       "      <th></th>\n",
       "      <th>Pclass</th>\n",
       "      <th>Sex</th>\n",
       "      <th>SibSp</th>\n",
       "      <th>Parch</th>\n",
       "      <th>Fare</th>\n",
       "      <th>C</th>\n",
       "      <th>Q</th>\n",
       "      <th>S</th>\n",
       "    </tr>\n",
       "  </thead>\n",
       "  <tbody>\n",
       "    <tr>\n",
       "      <th>0</th>\n",
       "      <td>3</td>\n",
       "      <td>1</td>\n",
       "      <td>1</td>\n",
       "      <td>0</td>\n",
       "      <td>7.2500</td>\n",
       "      <td>0</td>\n",
       "      <td>0</td>\n",
       "      <td>1</td>\n",
       "    </tr>\n",
       "    <tr>\n",
       "      <th>1</th>\n",
       "      <td>1</td>\n",
       "      <td>0</td>\n",
       "      <td>1</td>\n",
       "      <td>0</td>\n",
       "      <td>71.2833</td>\n",
       "      <td>1</td>\n",
       "      <td>0</td>\n",
       "      <td>0</td>\n",
       "    </tr>\n",
       "    <tr>\n",
       "      <th>2</th>\n",
       "      <td>3</td>\n",
       "      <td>0</td>\n",
       "      <td>0</td>\n",
       "      <td>0</td>\n",
       "      <td>7.9250</td>\n",
       "      <td>0</td>\n",
       "      <td>0</td>\n",
       "      <td>1</td>\n",
       "    </tr>\n",
       "    <tr>\n",
       "      <th>3</th>\n",
       "      <td>1</td>\n",
       "      <td>0</td>\n",
       "      <td>1</td>\n",
       "      <td>0</td>\n",
       "      <td>53.1000</td>\n",
       "      <td>0</td>\n",
       "      <td>0</td>\n",
       "      <td>1</td>\n",
       "    </tr>\n",
       "    <tr>\n",
       "      <th>4</th>\n",
       "      <td>3</td>\n",
       "      <td>1</td>\n",
       "      <td>0</td>\n",
       "      <td>0</td>\n",
       "      <td>8.0500</td>\n",
       "      <td>0</td>\n",
       "      <td>0</td>\n",
       "      <td>1</td>\n",
       "    </tr>\n",
       "  </tbody>\n",
       "</table>\n",
       "</div>"
      ],
      "text/plain": [
       "   Pclass  Sex  SibSp  Parch     Fare  C  Q  S\n",
       "0       3    1      1      0   7.2500  0  0  1\n",
       "1       1    0      1      0  71.2833  1  0  0\n",
       "2       3    0      0      0   7.9250  0  0  1\n",
       "3       1    0      1      0  53.1000  0  0  1\n",
       "4       3    1      0      0   8.0500  0  0  1"
      ]
     },
     "execution_count": 207,
     "metadata": {},
     "output_type": "execute_result"
    }
   ],
   "source": [
    "X.head()"
   ]
  },
  {
   "cell_type": "code",
   "execution_count": 206,
   "metadata": {},
   "outputs": [
    {
     "name": "stdout",
     "output_type": "stream",
     "text": [
      "Score with [7] selected features: 0.6190476190476191\n",
      "Score with [7, 2] selected features: 0.6218487394957983\n",
      "Score with [7, 2, 1] selected features: 0.7591036414565826\n",
      "Score with [7, 2, 1, 6] selected features: 0.7591036414565826\n",
      "Score with [7, 2, 1, 6, 0] selected features: 0.773109243697479\n",
      "Score with [7, 2, 1, 6, 0, 3] selected features: 0.7955182072829131\n",
      "Score with [7, 2, 1, 6, 0, 3, 5] selected features: 0.7955182072829131\n"
     ]
    }
   ],
   "source": [
    "from sklearn.utils import shuffle\n",
    "new_Ind = []\n",
    "cur_MaxScore = 0.0\n",
    "col_num = len(X.columns)\n",
    "col_Ind_Random = shuffle(range(0,col_num), random_state = 1)\n",
    "\n",
    "for cur_f in range(col_num):\n",
    "    new_Ind.append(col_Ind_Random[cur_f])\n",
    "    new_Data = X.iloc[:,new_Ind]\n",
    "    \n",
    "    X_train, X_test, y_train, y_test = train_test_split(new_Data, y, test_size = 0.4, random_state = 0)\n",
    "    \n",
    "    #KNN\n",
    "    KNN = KNeighborsClassifier(n_neighbors = 7, weights = 'distance', p = 2)\n",
    "    KNNfit = KNN.fit(X_train, y_train)\n",
    "    cur_Score = KNNfit.score(X_test,y_test)\n",
    "    \n",
    "    if cur_Score < cur_MaxScore:\n",
    "        new_Ind.remove(col_Ind_Random[cur_f])\n",
    "    else:\n",
    "        cur_MaxScore = cur_Score\n",
    "        print(\"Score with \" + str(new_Ind) + \" selected features: \" + str(cur_Score))"
   ]
  },
  {
   "cell_type": "markdown",
   "metadata": {},
   "source": [
    "## Decision Tree"
   ]
  },
  {
   "cell_type": "code",
   "execution_count": 115,
   "metadata": {},
   "outputs": [
    {
     "data": {
      "text/html": [
       "<div>\n",
       "<style scoped>\n",
       "    .dataframe tbody tr th:only-of-type {\n",
       "        vertical-align: middle;\n",
       "    }\n",
       "\n",
       "    .dataframe tbody tr th {\n",
       "        vertical-align: top;\n",
       "    }\n",
       "\n",
       "    .dataframe thead th {\n",
       "        text-align: right;\n",
       "    }\n",
       "</style>\n",
       "<table border=\"1\" class=\"dataframe\">\n",
       "  <thead>\n",
       "    <tr style=\"text-align: right;\">\n",
       "      <th></th>\n",
       "      <th>mean_fit_time</th>\n",
       "      <th>std_fit_time</th>\n",
       "      <th>mean_score_time</th>\n",
       "      <th>std_score_time</th>\n",
       "      <th>param_criterion</th>\n",
       "      <th>param_min_samples_leaf</th>\n",
       "      <th>param_min_samples_split</th>\n",
       "      <th>params</th>\n",
       "      <th>split0_test_score</th>\n",
       "      <th>split1_test_score</th>\n",
       "      <th>...</th>\n",
       "      <th>split3_test_score</th>\n",
       "      <th>split4_test_score</th>\n",
       "      <th>split5_test_score</th>\n",
       "      <th>split6_test_score</th>\n",
       "      <th>split7_test_score</th>\n",
       "      <th>split8_test_score</th>\n",
       "      <th>split9_test_score</th>\n",
       "      <th>mean_test_score</th>\n",
       "      <th>std_test_score</th>\n",
       "      <th>rank_test_score</th>\n",
       "    </tr>\n",
       "  </thead>\n",
       "  <tbody>\n",
       "    <tr>\n",
       "      <th>105</th>\n",
       "      <td>0.003419</td>\n",
       "      <td>0.003247</td>\n",
       "      <td>0.002933</td>\n",
       "      <td>0.003001</td>\n",
       "      <td>gini</td>\n",
       "      <td>7</td>\n",
       "      <td>17</td>\n",
       "      <td>{'criterion': 'gini', 'min_samples_leaf': 7, '...</td>\n",
       "      <td>0.847222</td>\n",
       "      <td>0.777778</td>\n",
       "      <td>...</td>\n",
       "      <td>0.875000</td>\n",
       "      <td>0.788732</td>\n",
       "      <td>0.774648</td>\n",
       "      <td>0.816901</td>\n",
       "      <td>0.830986</td>\n",
       "      <td>0.859155</td>\n",
       "      <td>0.830986</td>\n",
       "      <td>0.827641</td>\n",
       "      <td>0.035789</td>\n",
       "      <td>1</td>\n",
       "    </tr>\n",
       "    <tr>\n",
       "      <th>429</th>\n",
       "      <td>0.007198</td>\n",
       "      <td>0.000271</td>\n",
       "      <td>0.000245</td>\n",
       "      <td>0.000501</td>\n",
       "      <td>entropy</td>\n",
       "      <td>7</td>\n",
       "      <td>17</td>\n",
       "      <td>{'criterion': 'entropy', 'min_samples_leaf': 7...</td>\n",
       "      <td>0.861111</td>\n",
       "      <td>0.777778</td>\n",
       "      <td>...</td>\n",
       "      <td>0.888889</td>\n",
       "      <td>0.788732</td>\n",
       "      <td>0.774648</td>\n",
       "      <td>0.816901</td>\n",
       "      <td>0.802817</td>\n",
       "      <td>0.859155</td>\n",
       "      <td>0.830986</td>\n",
       "      <td>0.827602</td>\n",
       "      <td>0.039571</td>\n",
       "      <td>2</td>\n",
       "    </tr>\n",
       "    <tr>\n",
       "      <th>100</th>\n",
       "      <td>0.001715</td>\n",
       "      <td>0.002263</td>\n",
       "      <td>0.002946</td>\n",
       "      <td>0.002946</td>\n",
       "      <td>gini</td>\n",
       "      <td>7</td>\n",
       "      <td>12</td>\n",
       "      <td>{'criterion': 'gini', 'min_samples_leaf': 7, '...</td>\n",
       "      <td>0.819444</td>\n",
       "      <td>0.777778</td>\n",
       "      <td>...</td>\n",
       "      <td>0.875000</td>\n",
       "      <td>0.788732</td>\n",
       "      <td>0.788732</td>\n",
       "      <td>0.816901</td>\n",
       "      <td>0.830986</td>\n",
       "      <td>0.859155</td>\n",
       "      <td>0.830986</td>\n",
       "      <td>0.826272</td>\n",
       "      <td>0.033435</td>\n",
       "      <td>3</td>\n",
       "    </tr>\n",
       "    <tr>\n",
       "      <th>96</th>\n",
       "      <td>0.006069</td>\n",
       "      <td>0.002100</td>\n",
       "      <td>0.001208</td>\n",
       "      <td>0.002210</td>\n",
       "      <td>gini</td>\n",
       "      <td>7</td>\n",
       "      <td>8</td>\n",
       "      <td>{'criterion': 'gini', 'min_samples_leaf': 7, '...</td>\n",
       "      <td>0.819444</td>\n",
       "      <td>0.777778</td>\n",
       "      <td>...</td>\n",
       "      <td>0.875000</td>\n",
       "      <td>0.788732</td>\n",
       "      <td>0.788732</td>\n",
       "      <td>0.816901</td>\n",
       "      <td>0.830986</td>\n",
       "      <td>0.859155</td>\n",
       "      <td>0.830986</td>\n",
       "      <td>0.826272</td>\n",
       "      <td>0.033435</td>\n",
       "      <td>3</td>\n",
       "    </tr>\n",
       "    <tr>\n",
       "      <th>97</th>\n",
       "      <td>0.002700</td>\n",
       "      <td>0.002405</td>\n",
       "      <td>0.002824</td>\n",
       "      <td>0.002625</td>\n",
       "      <td>gini</td>\n",
       "      <td>7</td>\n",
       "      <td>9</td>\n",
       "      <td>{'criterion': 'gini', 'min_samples_leaf': 7, '...</td>\n",
       "      <td>0.819444</td>\n",
       "      <td>0.777778</td>\n",
       "      <td>...</td>\n",
       "      <td>0.875000</td>\n",
       "      <td>0.788732</td>\n",
       "      <td>0.788732</td>\n",
       "      <td>0.816901</td>\n",
       "      <td>0.830986</td>\n",
       "      <td>0.859155</td>\n",
       "      <td>0.830986</td>\n",
       "      <td>0.826272</td>\n",
       "      <td>0.033435</td>\n",
       "      <td>3</td>\n",
       "    </tr>\n",
       "    <tr>\n",
       "      <th>98</th>\n",
       "      <td>0.003859</td>\n",
       "      <td>0.003561</td>\n",
       "      <td>0.001874</td>\n",
       "      <td>0.002864</td>\n",
       "      <td>gini</td>\n",
       "      <td>7</td>\n",
       "      <td>10</td>\n",
       "      <td>{'criterion': 'gini', 'min_samples_leaf': 7, '...</td>\n",
       "      <td>0.819444</td>\n",
       "      <td>0.777778</td>\n",
       "      <td>...</td>\n",
       "      <td>0.875000</td>\n",
       "      <td>0.788732</td>\n",
       "      <td>0.788732</td>\n",
       "      <td>0.816901</td>\n",
       "      <td>0.830986</td>\n",
       "      <td>0.859155</td>\n",
       "      <td>0.830986</td>\n",
       "      <td>0.826272</td>\n",
       "      <td>0.033435</td>\n",
       "      <td>3</td>\n",
       "    </tr>\n",
       "    <tr>\n",
       "      <th>99</th>\n",
       "      <td>0.006501</td>\n",
       "      <td>0.003661</td>\n",
       "      <td>0.000787</td>\n",
       "      <td>0.001137</td>\n",
       "      <td>gini</td>\n",
       "      <td>7</td>\n",
       "      <td>11</td>\n",
       "      <td>{'criterion': 'gini', 'min_samples_leaf': 7, '...</td>\n",
       "      <td>0.819444</td>\n",
       "      <td>0.777778</td>\n",
       "      <td>...</td>\n",
       "      <td>0.875000</td>\n",
       "      <td>0.788732</td>\n",
       "      <td>0.788732</td>\n",
       "      <td>0.816901</td>\n",
       "      <td>0.830986</td>\n",
       "      <td>0.859155</td>\n",
       "      <td>0.830986</td>\n",
       "      <td>0.826272</td>\n",
       "      <td>0.033435</td>\n",
       "      <td>3</td>\n",
       "    </tr>\n",
       "    <tr>\n",
       "      <th>101</th>\n",
       "      <td>0.003934</td>\n",
       "      <td>0.004361</td>\n",
       "      <td>0.002613</td>\n",
       "      <td>0.003133</td>\n",
       "      <td>gini</td>\n",
       "      <td>7</td>\n",
       "      <td>13</td>\n",
       "      <td>{'criterion': 'gini', 'min_samples_leaf': 7, '...</td>\n",
       "      <td>0.819444</td>\n",
       "      <td>0.777778</td>\n",
       "      <td>...</td>\n",
       "      <td>0.875000</td>\n",
       "      <td>0.788732</td>\n",
       "      <td>0.788732</td>\n",
       "      <td>0.816901</td>\n",
       "      <td>0.830986</td>\n",
       "      <td>0.859155</td>\n",
       "      <td>0.830986</td>\n",
       "      <td>0.826272</td>\n",
       "      <td>0.033435</td>\n",
       "      <td>3</td>\n",
       "    </tr>\n",
       "    <tr>\n",
       "      <th>102</th>\n",
       "      <td>0.005660</td>\n",
       "      <td>0.002916</td>\n",
       "      <td>0.000200</td>\n",
       "      <td>0.000400</td>\n",
       "      <td>gini</td>\n",
       "      <td>7</td>\n",
       "      <td>14</td>\n",
       "      <td>{'criterion': 'gini', 'min_samples_leaf': 7, '...</td>\n",
       "      <td>0.819444</td>\n",
       "      <td>0.777778</td>\n",
       "      <td>...</td>\n",
       "      <td>0.875000</td>\n",
       "      <td>0.788732</td>\n",
       "      <td>0.788732</td>\n",
       "      <td>0.816901</td>\n",
       "      <td>0.830986</td>\n",
       "      <td>0.859155</td>\n",
       "      <td>0.830986</td>\n",
       "      <td>0.826272</td>\n",
       "      <td>0.033435</td>\n",
       "      <td>3</td>\n",
       "    </tr>\n",
       "    <tr>\n",
       "      <th>93</th>\n",
       "      <td>0.004581</td>\n",
       "      <td>0.004419</td>\n",
       "      <td>0.002186</td>\n",
       "      <td>0.002944</td>\n",
       "      <td>gini</td>\n",
       "      <td>7</td>\n",
       "      <td>5</td>\n",
       "      <td>{'criterion': 'gini', 'min_samples_leaf': 7, '...</td>\n",
       "      <td>0.819444</td>\n",
       "      <td>0.777778</td>\n",
       "      <td>...</td>\n",
       "      <td>0.875000</td>\n",
       "      <td>0.788732</td>\n",
       "      <td>0.788732</td>\n",
       "      <td>0.816901</td>\n",
       "      <td>0.830986</td>\n",
       "      <td>0.859155</td>\n",
       "      <td>0.830986</td>\n",
       "      <td>0.826272</td>\n",
       "      <td>0.033435</td>\n",
       "      <td>3</td>\n",
       "    </tr>\n",
       "  </tbody>\n",
       "</table>\n",
       "<p>10 rows × 21 columns</p>\n",
       "</div>"
      ],
      "text/plain": [
       "     mean_fit_time  std_fit_time  mean_score_time  std_score_time  \\\n",
       "105       0.003419      0.003247         0.002933        0.003001   \n",
       "429       0.007198      0.000271         0.000245        0.000501   \n",
       "100       0.001715      0.002263         0.002946        0.002946   \n",
       "96        0.006069      0.002100         0.001208        0.002210   \n",
       "97        0.002700      0.002405         0.002824        0.002625   \n",
       "98        0.003859      0.003561         0.001874        0.002864   \n",
       "99        0.006501      0.003661         0.000787        0.001137   \n",
       "101       0.003934      0.004361         0.002613        0.003133   \n",
       "102       0.005660      0.002916         0.000200        0.000400   \n",
       "93        0.004581      0.004419         0.002186        0.002944   \n",
       "\n",
       "    param_criterion param_min_samples_leaf param_min_samples_split  \\\n",
       "105            gini                      7                      17   \n",
       "429         entropy                      7                      17   \n",
       "100            gini                      7                      12   \n",
       "96             gini                      7                       8   \n",
       "97             gini                      7                       9   \n",
       "98             gini                      7                      10   \n",
       "99             gini                      7                      11   \n",
       "101            gini                      7                      13   \n",
       "102            gini                      7                      14   \n",
       "93             gini                      7                       5   \n",
       "\n",
       "                                                params  split0_test_score  \\\n",
       "105  {'criterion': 'gini', 'min_samples_leaf': 7, '...           0.847222   \n",
       "429  {'criterion': 'entropy', 'min_samples_leaf': 7...           0.861111   \n",
       "100  {'criterion': 'gini', 'min_samples_leaf': 7, '...           0.819444   \n",
       "96   {'criterion': 'gini', 'min_samples_leaf': 7, '...           0.819444   \n",
       "97   {'criterion': 'gini', 'min_samples_leaf': 7, '...           0.819444   \n",
       "98   {'criterion': 'gini', 'min_samples_leaf': 7, '...           0.819444   \n",
       "99   {'criterion': 'gini', 'min_samples_leaf': 7, '...           0.819444   \n",
       "101  {'criterion': 'gini', 'min_samples_leaf': 7, '...           0.819444   \n",
       "102  {'criterion': 'gini', 'min_samples_leaf': 7, '...           0.819444   \n",
       "93   {'criterion': 'gini', 'min_samples_leaf': 7, '...           0.819444   \n",
       "\n",
       "     split1_test_score  ...  split3_test_score  split4_test_score  \\\n",
       "105           0.777778  ...           0.875000           0.788732   \n",
       "429           0.777778  ...           0.888889           0.788732   \n",
       "100           0.777778  ...           0.875000           0.788732   \n",
       "96            0.777778  ...           0.875000           0.788732   \n",
       "97            0.777778  ...           0.875000           0.788732   \n",
       "98            0.777778  ...           0.875000           0.788732   \n",
       "99            0.777778  ...           0.875000           0.788732   \n",
       "101           0.777778  ...           0.875000           0.788732   \n",
       "102           0.777778  ...           0.875000           0.788732   \n",
       "93            0.777778  ...           0.875000           0.788732   \n",
       "\n",
       "     split5_test_score  split6_test_score  split7_test_score  \\\n",
       "105           0.774648           0.816901           0.830986   \n",
       "429           0.774648           0.816901           0.802817   \n",
       "100           0.788732           0.816901           0.830986   \n",
       "96            0.788732           0.816901           0.830986   \n",
       "97            0.788732           0.816901           0.830986   \n",
       "98            0.788732           0.816901           0.830986   \n",
       "99            0.788732           0.816901           0.830986   \n",
       "101           0.788732           0.816901           0.830986   \n",
       "102           0.788732           0.816901           0.830986   \n",
       "93            0.788732           0.816901           0.830986   \n",
       "\n",
       "     split8_test_score  split9_test_score  mean_test_score  std_test_score  \\\n",
       "105           0.859155           0.830986         0.827641        0.035789   \n",
       "429           0.859155           0.830986         0.827602        0.039571   \n",
       "100           0.859155           0.830986         0.826272        0.033435   \n",
       "96            0.859155           0.830986         0.826272        0.033435   \n",
       "97            0.859155           0.830986         0.826272        0.033435   \n",
       "98            0.859155           0.830986         0.826272        0.033435   \n",
       "99            0.859155           0.830986         0.826272        0.033435   \n",
       "101           0.859155           0.830986         0.826272        0.033435   \n",
       "102           0.859155           0.830986         0.826272        0.033435   \n",
       "93            0.859155           0.830986         0.826272        0.033435   \n",
       "\n",
       "     rank_test_score  \n",
       "105                1  \n",
       "429                2  \n",
       "100                3  \n",
       "96                 3  \n",
       "97                 3  \n",
       "98                 3  \n",
       "99                 3  \n",
       "101                3  \n",
       "102                3  \n",
       "93                 3  \n",
       "\n",
       "[10 rows x 21 columns]"
      ]
     },
     "execution_count": 115,
     "metadata": {},
     "output_type": "execute_result"
    }
   ],
   "source": [
    "#Grid Search\n",
    "from sklearn.model_selection import GridSearchCV, KFold\n",
    "from sklearn.tree import DecisionTreeClassifier\n",
    "\n",
    "kf = KFold(n_splits = 10, shuffle = True, random_state = 20)\n",
    "\n",
    "params = {'criterion' : ('gini', 'entropy'),\n",
    "          'min_samples_split' : list(range(2,20)),\n",
    "          'min_samples_leaf' : list(range(2,20))}\n",
    "\n",
    "DTree = DecisionTreeClassifier()\n",
    "clf = GridSearchCV(DTree, params, cv = kf.split(X))\n",
    "clf.fit(X, y)\n",
    "resDTree = pd.DataFrame(clf.cv_results_)\n",
    "resDTree.sort_values(by = 'rank_test_score').head(10)"
   ]
  },
  {
   "cell_type": "code",
   "execution_count": 118,
   "metadata": {},
   "outputs": [],
   "source": [
    "from sklearn.model_selection import train_test_split\n",
    "\n",
    "X_train, X_test, y_train, y_test = train_test_split(X,y, random_state = 20)\n",
    "\n",
    "clf = DecisionTreeClassifier(criterion = 'gini', min_samples_split = 17, min_samples_leaf = 7)\n",
    "fit = clf.fit(X_train, y_train)\n",
    "y_pre = fit.predict(X_test)"
   ]
  },
  {
   "cell_type": "code",
   "execution_count": 124,
   "metadata": {},
   "outputs": [
    {
     "data": {
      "text/plain": [
       "['Pclass', 'Sex', 'Age', 'C', 'Q', 'S']"
      ]
     },
     "execution_count": 124,
     "metadata": {},
     "output_type": "execute_result"
    }
   ],
   "source": [
    "list(X.columns)"
   ]
  },
  {
   "cell_type": "code",
   "execution_count": 128,
   "metadata": {},
   "outputs": [
    {
     "data": {
      "text/plain": [
       "array([0, 1], dtype=int64)"
      ]
     },
     "execution_count": 128,
     "metadata": {},
     "output_type": "execute_result"
    }
   ],
   "source": [
    "y.unique()"
   ]
  },
  {
   "cell_type": "code",
   "execution_count": 130,
   "metadata": {},
   "outputs": [],
   "source": [
    "from sklearn import tree\n",
    "\n",
    "with open(\"titanic.dot\", 'w') as f:\n",
    "    f = tree.export_graphviz(clf, out_file = f, feature_names= list(X.columns), class_names= ['dead','survived'],\n",
    "                            filled = True, rounded= True, special_characters=True)"
   ]
  },
  {
   "cell_type": "code",
   "execution_count": null,
   "metadata": {},
   "outputs": [],
   "source": []
  },
  {
   "cell_type": "code",
   "execution_count": null,
   "metadata": {},
   "outputs": [],
   "source": []
  }
 ],
 "metadata": {
  "kernelspec": {
   "display_name": "Python 3",
   "language": "python",
   "name": "python3"
  },
  "language_info": {
   "codemirror_mode": {
    "name": "ipython",
    "version": 3
   },
   "file_extension": ".py",
   "mimetype": "text/x-python",
   "name": "python",
   "nbconvert_exporter": "python",
   "pygments_lexer": "ipython3",
   "version": "3.7.3"
  }
 },
 "nbformat": 4,
 "nbformat_minor": 4
}
